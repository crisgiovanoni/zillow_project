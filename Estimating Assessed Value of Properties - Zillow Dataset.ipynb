{
 "cells": [
  {
   "cell_type": "markdown",
   "metadata": {},
   "source": [
    "# Estimating Assessed Value of Properties    Using the Zillow Dataset"
   ]
  },
  {
   "cell_type": "markdown",
   "metadata": {},
   "source": [
    "Cris Giovanoni  \n",
    "October 21, 2019\n",
    "___"
   ]
  },
  {
   "cell_type": "markdown",
   "metadata": {},
   "source": [
    "## Assumptions/Notes  \n",
    "- Square footage accounted all living, finished spaces. The values **excluded** the following:\n",
    "  - Basement\n",
    "  - Garage\n",
    "  - Yard\n",
    "  - Entire lot\n",
    "- Types of Single Unit housing included in the analysis:\n",
    "   - 261\tSingle Family Residential\n",
    "   - 262\tRural Residence\n",
    "   - 263\tMobile Home\n",
    "   - 264\tTownhouse\n",
    "   - 265\tCluster Home\n",
    "   - 268\tRow House\n",
    "   - 269\tPlanned Unit Development\n",
    "   - 273\tBungalow\n",
    "   - 275\tManufactured, Modular, Prefabricated Homes\n",
    "   - 276\tPatio Home"
   ]
  },
  {
   "cell_type": "markdown",
   "metadata": {},
   "source": [
    "---\n",
    "## _Producing Baseline Model_"
   ]
  },
  {
   "cell_type": "markdown",
   "metadata": {},
   "source": [
    "## ACQUIRE\n",
    "PROJECT PLAN -> **ACQUIRE** -> PRE-PROCESS -> MODEL ->"
   ]
  },
  {
   "cell_type": "markdown",
   "metadata": {},
   "source": [
    "Get data from SQL and filter data with the following conditions:\n",
    "tk\n"
   ]
  },
  {
   "cell_type": "code",
   "execution_count": 6,
   "metadata": {},
   "outputs": [],
   "source": [
    "import pandas as pd\n",
    "import numpy as np\n",
    "\n",
    "import zillow_util as util"
   ]
  },
  {
   "cell_type": "code",
   "execution_count": 11,
   "metadata": {},
   "outputs": [],
   "source": [
    "zillow = util.filter_zillow_baseline(util.get_sql_zillow())"
   ]
  },
  {
   "cell_type": "code",
   "execution_count": 14,
   "metadata": {},
   "outputs": [
    {
     "data": {
      "text/html": [
       "<div>\n",
       "<style scoped>\n",
       "    .dataframe tbody tr th:only-of-type {\n",
       "        vertical-align: middle;\n",
       "    }\n",
       "\n",
       "    .dataframe tbody tr th {\n",
       "        vertical-align: top;\n",
       "    }\n",
       "\n",
       "    .dataframe thead th {\n",
       "        text-align: right;\n",
       "    }\n",
       "</style>\n",
       "<table border=\"1\" class=\"dataframe\">\n",
       "  <thead>\n",
       "    <tr style=\"text-align: right;\">\n",
       "      <th></th>\n",
       "      <th>id</th>\n",
       "      <th>sqft</th>\n",
       "      <th>bathcnt</th>\n",
       "      <th>bedcnt</th>\n",
       "      <th>transdate</th>\n",
       "      <th>propvalue</th>\n",
       "    </tr>\n",
       "  </thead>\n",
       "  <tbody>\n",
       "    <tr>\n",
       "      <th>868</th>\n",
       "      <td>11289917</td>\n",
       "      <td>1458.0</td>\n",
       "      <td>2.0</td>\n",
       "      <td>3.0</td>\n",
       "      <td>2017-06-23</td>\n",
       "      <td>136104.0</td>\n",
       "    </tr>\n",
       "  </tbody>\n",
       "</table>\n",
       "</div>"
      ],
      "text/plain": [
       "           id    sqft  bathcnt  bedcnt  transdate  propvalue\n",
       "868  11289917  1458.0      2.0     3.0 2017-06-23   136104.0"
      ]
     },
     "execution_count": 14,
     "metadata": {},
     "output_type": "execute_result"
    }
   ],
   "source": [
    "zillow.head(1)"
   ]
  },
  {
   "cell_type": "markdown",
   "metadata": {},
   "source": [
    "## PRE-PROCESS\n",
    "PROJECT PLAN -> ACQUIRE -> **PRE-PROCESS** -> MODEL ->"
   ]
  },
  {
   "cell_type": "markdown",
   "metadata": {},
   "source": [
    "Separate the features (X) and target (y) columns. Then, split data to train and test, resulting to four data frames with X and y separated and partitioned into two."
   ]
  },
  {
   "cell_type": "code",
   "execution_count": 24,
   "metadata": {},
   "outputs": [],
   "source": [
    "X = zillow[[\"sqft\",\"bathcnt\",\"bedcnt\"]]\n",
    "y = zillow.propvalue"
   ]
  },
  {
   "cell_type": "code",
   "execution_count": 25,
   "metadata": {},
   "outputs": [],
   "source": [
    "X_train, X_test, y_train, y_test = util.split_my_data(X, y, 0.7)"
   ]
  },
  {
   "cell_type": "markdown",
   "metadata": {},
   "source": [
    "Scale train and test data with all X.  \n",
    "Scaled X train data will be fitted into to the model later.  \n",
    "Scaled X test data will be used post-modelling phase to test the baseline model."
   ]
  },
  {
   "cell_type": "code",
   "execution_count": 34,
   "metadata": {},
   "outputs": [],
   "source": [
    "scaled_X_train, scaled_X_test, standard_scaler = util.standard_scaler(X_train, X_test)"
   ]
  },
  {
   "cell_type": "code",
   "execution_count": 41,
   "metadata": {},
   "outputs": [
    {
     "data": {
      "text/html": [
       "<div>\n",
       "<style scoped>\n",
       "    .dataframe tbody tr th:only-of-type {\n",
       "        vertical-align: middle;\n",
       "    }\n",
       "\n",
       "    .dataframe tbody tr th {\n",
       "        vertical-align: top;\n",
       "    }\n",
       "\n",
       "    .dataframe thead th {\n",
       "        text-align: right;\n",
       "    }\n",
       "</style>\n",
       "<table border=\"1\" class=\"dataframe\">\n",
       "  <thead>\n",
       "    <tr style=\"text-align: right;\">\n",
       "      <th></th>\n",
       "      <th>sqft</th>\n",
       "      <th>bathcnt</th>\n",
       "      <th>bedcnt</th>\n",
       "    </tr>\n",
       "  </thead>\n",
       "  <tbody>\n",
       "    <tr>\n",
       "      <th>count</th>\n",
       "      <td>4714.000000</td>\n",
       "      <td>4714.000000</td>\n",
       "      <td>4714.000000</td>\n",
       "    </tr>\n",
       "    <tr>\n",
       "      <th>mean</th>\n",
       "      <td>1960.238651</td>\n",
       "      <td>2.363067</td>\n",
       "      <td>3.326474</td>\n",
       "    </tr>\n",
       "    <tr>\n",
       "      <th>std</th>\n",
       "      <td>1023.285677</td>\n",
       "      <td>1.032196</td>\n",
       "      <td>0.942947</td>\n",
       "    </tr>\n",
       "    <tr>\n",
       "      <th>min</th>\n",
       "      <td>389.000000</td>\n",
       "      <td>0.000000</td>\n",
       "      <td>0.000000</td>\n",
       "    </tr>\n",
       "    <tr>\n",
       "      <th>25%</th>\n",
       "      <td>1290.250000</td>\n",
       "      <td>2.000000</td>\n",
       "      <td>3.000000</td>\n",
       "    </tr>\n",
       "    <tr>\n",
       "      <th>50%</th>\n",
       "      <td>1680.500000</td>\n",
       "      <td>2.000000</td>\n",
       "      <td>3.000000</td>\n",
       "    </tr>\n",
       "    <tr>\n",
       "      <th>75%</th>\n",
       "      <td>2344.750000</td>\n",
       "      <td>3.000000</td>\n",
       "      <td>4.000000</td>\n",
       "    </tr>\n",
       "    <tr>\n",
       "      <th>max</th>\n",
       "      <td>11478.000000</td>\n",
       "      <td>11.000000</td>\n",
       "      <td>10.000000</td>\n",
       "    </tr>\n",
       "  </tbody>\n",
       "</table>\n",
       "</div>"
      ],
      "text/plain": [
       "               sqft      bathcnt       bedcnt\n",
       "count   4714.000000  4714.000000  4714.000000\n",
       "mean    1960.238651     2.363067     3.326474\n",
       "std     1023.285677     1.032196     0.942947\n",
       "min      389.000000     0.000000     0.000000\n",
       "25%     1290.250000     2.000000     3.000000\n",
       "50%     1680.500000     2.000000     3.000000\n",
       "75%     2344.750000     3.000000     4.000000\n",
       "max    11478.000000    11.000000    10.000000"
      ]
     },
     "execution_count": 41,
     "metadata": {},
     "output_type": "execute_result"
    }
   ],
   "source": [
    "scaled_X_test.describe()"
   ]
  },
  {
   "cell_type": "code",
   "execution_count": null,
   "metadata": {},
   "outputs": [],
   "source": []
  }
 ],
 "metadata": {
  "kernelspec": {
   "display_name": "Python 3",
   "language": "python",
   "name": "python3"
  },
  "language_info": {
   "codemirror_mode": {
    "name": "ipython",
    "version": 3
   },
   "file_extension": ".py",
   "mimetype": "text/x-python",
   "name": "python",
   "nbconvert_exporter": "python",
   "pygments_lexer": "ipython3",
   "version": "3.7.3"
  }
 },
 "nbformat": 4,
 "nbformat_minor": 2
}
