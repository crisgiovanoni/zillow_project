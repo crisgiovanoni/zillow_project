{
 "cells": [
  {
   "cell_type": "markdown",
   "metadata": {},
   "source": [
    "# Estimating Assessed Value of Properties    Using the Zillow Dataset"
   ]
  },
  {
   "cell_type": "markdown",
   "metadata": {},
   "source": [
    "Cris Giovanoni  \n",
    "October 21, 2019\n",
    "___"
   ]
  },
  {
   "cell_type": "markdown",
   "metadata": {},
   "source": [
    "## Assumptions/Notes  \n",
    "- Square footage accounted all living, finished spaces. The values **excluded** the following:\n",
    "  - Basement\n",
    "  - Garage\n",
    "  - Yard\n",
    "  - Entire lot\n",
    "- Types of Single Unit housing included in the analysis:\n",
    "   - 261\tSingle Family Residential\n",
    "   - 262\tRural Residence\n",
    "   - 263\tMobile Home\n",
    "   - 264\tTownhouse\n",
    "   - 265\tCluster Home\n",
    "   - 268\tRow House\n",
    "   - 269\tPlanned Unit Development\n",
    "   - 273\tBungalow\n",
    "   - 275\tManufactured, Modular, Prefabricated Homes\n",
    "   - 276\tPatio Home"
   ]
  },
  {
   "cell_type": "markdown",
   "metadata": {},
   "source": [
    "## ACQUIRE\n",
    "PROJECT PLAN -> **ACQUIRE** -> PRE-PROCESS -> MODEL ->"
   ]
  },
  {
   "cell_type": "markdown",
   "metadata": {},
   "source": [
    "---\n",
    "## _Producing Baseline Model_"
   ]
  },
  {
   "cell_type": "markdown",
   "metadata": {},
   "source": []
  },
  {
   "cell_type": "code",
   "execution_count": 2,
   "metadata": {},
   "outputs": [],
   "source": [
    "import pandas as pd\n",
    "import numpy as np\n",
    "\n",
    "import zillow_util as zu"
   ]
  },
  {
   "cell_type": "code",
   "execution_count": null,
   "metadata": {},
   "outputs": [],
   "source": [
    "zillow = wrangle.get_sql_zillow()"
   ]
  },
  {
   "cell_type": "code",
   "execution_count": null,
   "metadata": {},
   "outputs": [],
   "source": []
  }
 ],
 "metadata": {
  "kernelspec": {
   "display_name": "Python 3",
   "language": "python",
   "name": "python3"
  },
  "language_info": {
   "codemirror_mode": {
    "name": "ipython",
    "version": 3
   },
   "file_extension": ".py",
   "mimetype": "text/x-python",
   "name": "python",
   "nbconvert_exporter": "python",
   "pygments_lexer": "ipython3",
   "version": "3.7.3"
  }
 },
 "nbformat": 4,
 "nbformat_minor": 2
}
