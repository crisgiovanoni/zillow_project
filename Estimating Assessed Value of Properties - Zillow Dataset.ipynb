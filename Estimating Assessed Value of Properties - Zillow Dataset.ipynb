{
 "cells": [
  {
   "cell_type": "markdown",
   "metadata": {},
   "source": [
    "# Estimating Assessed Value of Properties    Using the Zillow Dataset"
   ]
  },
  {
   "cell_type": "markdown",
   "metadata": {},
   "source": [
    "Cris Giovanoni  \n",
    "October 21, 2019\n",
    "___"
   ]
  },
  {
   "cell_type": "markdown",
   "metadata": {},
   "source": [
    "## Notes  \n",
    "  \n",
    "### Assumptions\n",
    "- Square footage accounted all living, finished spaces. The values **excluded** the following spatial areas:\n",
    "  - Basement\n",
    "  - Garage\n",
    "  - Yard\n",
    "  - Entire lot\n",
    "- Types of Single Unit housing included in the analysis:\n",
    "   - 261\tSingle Family Residential\n",
    "   - 262\tRural Residence\n",
    "   - 263\tMobile Home\n",
    "   - 264\tTownhouse\n",
    "   - 265\tCluster Home\n",
    "   - 268\tRow House\n",
    "   - 269\tPlanned Unit Development\n",
    "   - 273\tBungalow\n",
    "   - 275\tManufactured, Modular, Prefabricated Homes\n",
    "   - 276\tPatio Home\n",
    "\n",
    "### Workflow\n",
    "- I. Create baseline model with three features - square footage, bathroom count, and bedroom count\n",
    "- II. Create Ω model, going through entire pipeline\n",
    "- III. Evaluate baseline and model and Ω model using test data"
   ]
  },
  {
   "cell_type": "markdown",
   "metadata": {},
   "source": [
    "### Packages"
   ]
  },
  {
   "cell_type": "code",
   "execution_count": 1,
   "metadata": {},
   "outputs": [],
   "source": [
    "import warnings\n",
    "warnings.filterwarnings(\"ignore\")\n",
    "import pandas as pd\n",
    "import numpy as np\n",
    "import matplotlib.pyplot as plt\n",
    "%matplotlib inline\n",
    "import seaborn as sns\n",
    "from scipy import stats\n",
    "from sklearn.decomposition import PCA\n",
    "from sklearn.metrics import mean_squared_error, explained_variance_score\n",
    "from math import sqrt\n",
    "\n",
    "\n",
    "import zillow_util as util"
   ]
  },
  {
   "cell_type": "markdown",
   "metadata": {},
   "source": [
    "---\n",
    "## I. Create Baseline Model"
   ]
  },
  {
   "cell_type": "markdown",
   "metadata": {},
   "source": [
    "Get data from SQL and filter data with the following conditions:\n",
    "tk\n"
   ]
  },
  {
   "cell_type": "code",
   "execution_count": 2,
   "metadata": {},
   "outputs": [],
   "source": [
    "zillow = util.filter_zillow_baseline(util.get_sql_zillow())"
   ]
  },
  {
   "cell_type": "markdown",
   "metadata": {},
   "source": [
    "Separate the features (X) and target (y) columns. Then, split data to train and test, resulting to four data frames with X and y separated and partitioned into two."
   ]
  },
  {
   "cell_type": "code",
   "execution_count": 3,
   "metadata": {},
   "outputs": [],
   "source": [
    "X = zillow[[\"sqft\",\"bathcnt\",\"bedcnt\"]]\n",
    "y = zillow.propvalue"
   ]
  },
  {
   "cell_type": "code",
   "execution_count": 4,
   "metadata": {},
   "outputs": [],
   "source": [
    "X_train, X_test, y_train, y_test = util.split_my_data(X, y, 0.7)"
   ]
  },
  {
   "cell_type": "markdown",
   "metadata": {},
   "source": [
    "Scale train and test data with all X.  \n",
    "Scaled X train data will be fitted into to the model later.  \n",
    "Scaled X test data will be used post-modelling phase to test the baseline model."
   ]
  },
  {
   "cell_type": "code",
   "execution_count": 5,
   "metadata": {},
   "outputs": [],
   "source": [
    "scaled_X_train, scaled_X_test, standard_scaler = util.standard_scaler(X_train, X_test)"
   ]
  },
  {
   "cell_type": "markdown",
   "metadata": {},
   "source": [
    "Create a linear model with train data, i.e., scaled X data and unscaled y data."
   ]
  },
  {
   "cell_type": "code",
   "execution_count": 6,
   "metadata": {},
   "outputs": [],
   "source": [
    "lm_base, lm_base_intercept, lm_base_coeff = util.generate_linear_model(scaled_X_train, y_train)"
   ]
  },
  {
   "cell_type": "code",
   "execution_count": 167,
   "metadata": {},
   "outputs": [
    {
     "name": "stdout",
     "output_type": "stream",
     "text": [
      "\n",
      "Linear Model for Baseline:\n",
      "Intercept: 528745.8490634661\n",
      "Coefficients of X: 422257.7332062156, 73656.54782345846, 422257.7332062156\n",
      "\n"
     ]
    }
   ],
   "source": [
    "print(f\"\"\"\n",
    "Linear Model for Baseline:\n",
    "Intercept: {lm_base_intercept}\n",
    "Coefficients of X: {lm_base_coeff[0]}, {lm_base_coeff[1]}, {lm_base_coeff[0]}\n",
    "\"\"\")"
   ]
  },
  {
   "cell_type": "markdown",
   "metadata": {},
   "source": [
    "---\n",
    "## II. Create  Ω Model"
   ]
  },
  {
   "cell_type": "markdown",
   "metadata": {},
   "source": [
    "## PROJECT PLAN\n",
    "**PROJECT PLAN** -> ACQUIRE -> PRE-PROCESS -> EXPLORE -> MODEL"
   ]
  },
  {
   "cell_type": "markdown",
   "metadata": {},
   "source": [
    "BUSINESS PROBLEM:  \n",
    "If we only have square footage, and the no. of bathrooms and bedrooms, are we able to predict a property value based on historical data?\n",
    "\n",
    "HYPOTHESIS:\n",
    "\n",
    "\n",
    "\n",
    "\n",
    "PROJECT PLANNING & README\n",
    "Brainstorming ideas, hypotheses, related to how variables might impact or relate to each other, both within independent variables and between the independent variables and dependent variable, and also related to any ideas for new features you may have while first looking at the existing variables and challenge ahead of you.\n",
    "\n",
    "Have a detailed README.md file for anyone who wants to check out your project. In this file should be a description of what the project is, and any instructions necessary for someone else to clone your project and run the code on their own laptop.\n",
    "\n",
    "\"PREDICTIVE POWER\""
   ]
  },
  {
   "cell_type": "markdown",
   "metadata": {},
   "source": [
    "## ACQUIRE\n",
    "PROJECT PLAN -> **ACQUIRE** -> PRE-PROCESS -> EXPLORE -> MODEL"
   ]
  },
  {
   "cell_type": "markdown",
   "metadata": {},
   "source": [
    "Get data from SQL.  \n",
    "Perform initial cleanup by casting columns to appropriate data types.\n",
    "  - `filter_zillow` function from `zillow_util` re-types transaction date as a date data type and extracts properties whose transaction date fall between May and June 2017.\n",
    "  - It also renames columns for efficiency.\n"
   ]
  },
  {
   "cell_type": "code",
   "execution_count": 8,
   "metadata": {},
   "outputs": [],
   "source": [
    "zillow = util.filter_zillow(util.get_sql_zillow())"
   ]
  },
  {
   "cell_type": "code",
   "execution_count": 9,
   "metadata": {},
   "outputs": [
    {
     "name": "stdout",
     "output_type": "stream",
     "text": [
      "<class 'pandas.core.frame.DataFrame'>\n",
      "Int64Index: 15740 entries, 868 to 37865\n",
      "Data columns (total 6 columns):\n",
      "id           15740 non-null int64\n",
      "sqft         15712 non-null float64\n",
      "bathcnt      15740 non-null float64\n",
      "bedcnt       15740 non-null float64\n",
      "transdate    15740 non-null datetime64[ns]\n",
      "propvalue    15740 non-null float64\n",
      "dtypes: datetime64[ns](1), float64(4), int64(1)\n",
      "memory usage: 860.8 KB\n"
     ]
    }
   ],
   "source": [
    "zillow.info()"
   ]
  },
  {
   "cell_type": "markdown",
   "metadata": {},
   "source": [
    "## PRE-PROCESS\n",
    "PROJECT PLAN -> ACQUIRE -> **PRE-PROCESS** -> EXPLORE -> MODEL"
   ]
  },
  {
   "cell_type": "markdown",
   "metadata": {},
   "source": [
    "### A. Clean Data"
   ]
  },
  {
   "cell_type": "markdown",
   "metadata": {},
   "source": [
    "Look for missing values.\n",
    " - Observations that don't have square footage also don't contain bathroom and bedroom count. Because the values of these features add little to no value to the data, they are dropped."
   ]
  },
  {
   "cell_type": "code",
   "execution_count": 10,
   "metadata": {},
   "outputs": [
    {
     "data": {
      "text/plain": [
       "id            0\n",
       "sqft         28\n",
       "bathcnt       0\n",
       "bedcnt        0\n",
       "transdate     0\n",
       "propvalue     0\n",
       "dtype: int64"
      ]
     },
     "execution_count": 10,
     "metadata": {},
     "output_type": "execute_result"
    }
   ],
   "source": [
    "zillow.isnull().sum()"
   ]
  },
  {
   "cell_type": "code",
   "execution_count": 11,
   "metadata": {},
   "outputs": [
    {
     "data": {
      "text/html": [
       "<div>\n",
       "<style scoped>\n",
       "    .dataframe tbody tr th:only-of-type {\n",
       "        vertical-align: middle;\n",
       "    }\n",
       "\n",
       "    .dataframe tbody tr th {\n",
       "        vertical-align: top;\n",
       "    }\n",
       "\n",
       "    .dataframe thead th {\n",
       "        text-align: right;\n",
       "    }\n",
       "</style>\n",
       "<table border=\"1\" class=\"dataframe\">\n",
       "  <thead>\n",
       "    <tr style=\"text-align: right;\">\n",
       "      <th></th>\n",
       "      <th>id</th>\n",
       "      <th>sqft</th>\n",
       "      <th>bathcnt</th>\n",
       "      <th>bedcnt</th>\n",
       "      <th>transdate</th>\n",
       "      <th>propvalue</th>\n",
       "    </tr>\n",
       "  </thead>\n",
       "  <tbody>\n",
       "    <tr>\n",
       "      <th>22402</th>\n",
       "      <td>14466991</td>\n",
       "      <td>NaN</td>\n",
       "      <td>0.0</td>\n",
       "      <td>0.0</td>\n",
       "      <td>2017-05-01</td>\n",
       "      <td>2493444.0</td>\n",
       "    </tr>\n",
       "    <tr>\n",
       "      <th>23075</th>\n",
       "      <td>13972530</td>\n",
       "      <td>NaN</td>\n",
       "      <td>0.0</td>\n",
       "      <td>0.0</td>\n",
       "      <td>2017-05-04</td>\n",
       "      <td>270009.0</td>\n",
       "    </tr>\n",
       "    <tr>\n",
       "      <th>23076</th>\n",
       "      <td>14325627</td>\n",
       "      <td>NaN</td>\n",
       "      <td>0.0</td>\n",
       "      <td>0.0</td>\n",
       "      <td>2017-05-04</td>\n",
       "      <td>7074075.0</td>\n",
       "    </tr>\n",
       "    <tr>\n",
       "      <th>23095</th>\n",
       "      <td>12686981</td>\n",
       "      <td>NaN</td>\n",
       "      <td>0.0</td>\n",
       "      <td>0.0</td>\n",
       "      <td>2017-05-04</td>\n",
       "      <td>5461875.0</td>\n",
       "    </tr>\n",
       "    <tr>\n",
       "      <th>23861</th>\n",
       "      <td>10746614</td>\n",
       "      <td>NaN</td>\n",
       "      <td>0.0</td>\n",
       "      <td>0.0</td>\n",
       "      <td>2017-05-08</td>\n",
       "      <td>230876.0</td>\n",
       "    </tr>\n",
       "    <tr>\n",
       "      <th>24796</th>\n",
       "      <td>14175690</td>\n",
       "      <td>NaN</td>\n",
       "      <td>0.0</td>\n",
       "      <td>0.0</td>\n",
       "      <td>2017-05-11</td>\n",
       "      <td>157074.0</td>\n",
       "    </tr>\n",
       "    <tr>\n",
       "      <th>24873</th>\n",
       "      <td>12131538</td>\n",
       "      <td>NaN</td>\n",
       "      <td>0.0</td>\n",
       "      <td>0.0</td>\n",
       "      <td>2017-05-11</td>\n",
       "      <td>225126.0</td>\n",
       "    </tr>\n",
       "    <tr>\n",
       "      <th>26411</th>\n",
       "      <td>17292027</td>\n",
       "      <td>NaN</td>\n",
       "      <td>0.0</td>\n",
       "      <td>0.0</td>\n",
       "      <td>2017-05-18</td>\n",
       "      <td>3210155.0</td>\n",
       "    </tr>\n",
       "    <tr>\n",
       "      <th>27852</th>\n",
       "      <td>14175815</td>\n",
       "      <td>NaN</td>\n",
       "      <td>0.0</td>\n",
       "      <td>0.0</td>\n",
       "      <td>2017-05-24</td>\n",
       "      <td>385795.0</td>\n",
       "    </tr>\n",
       "    <tr>\n",
       "      <th>27931</th>\n",
       "      <td>14430787</td>\n",
       "      <td>NaN</td>\n",
       "      <td>0.0</td>\n",
       "      <td>0.0</td>\n",
       "      <td>2017-05-25</td>\n",
       "      <td>5126781.0</td>\n",
       "    </tr>\n",
       "    <tr>\n",
       "      <th>29010</th>\n",
       "      <td>17267536</td>\n",
       "      <td>NaN</td>\n",
       "      <td>0.0</td>\n",
       "      <td>0.0</td>\n",
       "      <td>2017-05-30</td>\n",
       "      <td>26237.0</td>\n",
       "    </tr>\n",
       "    <tr>\n",
       "      <th>29377</th>\n",
       "      <td>167687839</td>\n",
       "      <td>NaN</td>\n",
       "      <td>0.0</td>\n",
       "      <td>0.0</td>\n",
       "      <td>2017-05-31</td>\n",
       "      <td>1842678.0</td>\n",
       "    </tr>\n",
       "    <tr>\n",
       "      <th>30251</th>\n",
       "      <td>17190620</td>\n",
       "      <td>NaN</td>\n",
       "      <td>0.0</td>\n",
       "      <td>0.0</td>\n",
       "      <td>2017-06-02</td>\n",
       "      <td>180000.0</td>\n",
       "    </tr>\n",
       "    <tr>\n",
       "      <th>31037</th>\n",
       "      <td>12528751</td>\n",
       "      <td>NaN</td>\n",
       "      <td>0.0</td>\n",
       "      <td>0.0</td>\n",
       "      <td>2017-06-06</td>\n",
       "      <td>1289097.0</td>\n",
       "    </tr>\n",
       "    <tr>\n",
       "      <th>31500</th>\n",
       "      <td>14466726</td>\n",
       "      <td>NaN</td>\n",
       "      <td>0.0</td>\n",
       "      <td>0.0</td>\n",
       "      <td>2017-06-08</td>\n",
       "      <td>1558090.0</td>\n",
       "    </tr>\n",
       "    <tr>\n",
       "      <th>32181</th>\n",
       "      <td>12055162</td>\n",
       "      <td>NaN</td>\n",
       "      <td>0.0</td>\n",
       "      <td>0.0</td>\n",
       "      <td>2017-06-12</td>\n",
       "      <td>406100.0</td>\n",
       "    </tr>\n",
       "    <tr>\n",
       "      <th>32384</th>\n",
       "      <td>14326442</td>\n",
       "      <td>NaN</td>\n",
       "      <td>0.0</td>\n",
       "      <td>0.0</td>\n",
       "      <td>2017-06-13</td>\n",
       "      <td>3136161.0</td>\n",
       "    </tr>\n",
       "    <tr>\n",
       "      <th>33661</th>\n",
       "      <td>14237996</td>\n",
       "      <td>NaN</td>\n",
       "      <td>0.0</td>\n",
       "      <td>0.0</td>\n",
       "      <td>2017-06-16</td>\n",
       "      <td>626497.0</td>\n",
       "    </tr>\n",
       "    <tr>\n",
       "      <th>33901</th>\n",
       "      <td>14359299</td>\n",
       "      <td>NaN</td>\n",
       "      <td>0.0</td>\n",
       "      <td>0.0</td>\n",
       "      <td>2017-06-19</td>\n",
       "      <td>1244873.0</td>\n",
       "    </tr>\n",
       "    <tr>\n",
       "      <th>34206</th>\n",
       "      <td>13889651</td>\n",
       "      <td>NaN</td>\n",
       "      <td>0.0</td>\n",
       "      <td>0.0</td>\n",
       "      <td>2017-06-20</td>\n",
       "      <td>125714.0</td>\n",
       "    </tr>\n",
       "    <tr>\n",
       "      <th>34521</th>\n",
       "      <td>13889433</td>\n",
       "      <td>NaN</td>\n",
       "      <td>0.0</td>\n",
       "      <td>0.0</td>\n",
       "      <td>2017-06-21</td>\n",
       "      <td>1941143.0</td>\n",
       "    </tr>\n",
       "    <tr>\n",
       "      <th>34822</th>\n",
       "      <td>13865064</td>\n",
       "      <td>NaN</td>\n",
       "      <td>0.0</td>\n",
       "      <td>0.0</td>\n",
       "      <td>2017-06-22</td>\n",
       "      <td>2231097.0</td>\n",
       "    </tr>\n",
       "    <tr>\n",
       "      <th>34998</th>\n",
       "      <td>14469211</td>\n",
       "      <td>NaN</td>\n",
       "      <td>0.0</td>\n",
       "      <td>0.0</td>\n",
       "      <td>2017-06-22</td>\n",
       "      <td>970000.0</td>\n",
       "    </tr>\n",
       "    <tr>\n",
       "      <th>35225</th>\n",
       "      <td>11496648</td>\n",
       "      <td>NaN</td>\n",
       "      <td>0.0</td>\n",
       "      <td>0.0</td>\n",
       "      <td>2017-06-23</td>\n",
       "      <td>957014.0</td>\n",
       "    </tr>\n",
       "    <tr>\n",
       "      <th>36001</th>\n",
       "      <td>14166728</td>\n",
       "      <td>NaN</td>\n",
       "      <td>0.0</td>\n",
       "      <td>0.0</td>\n",
       "      <td>2017-06-27</td>\n",
       "      <td>1608894.0</td>\n",
       "    </tr>\n",
       "    <tr>\n",
       "      <th>36560</th>\n",
       "      <td>11640641</td>\n",
       "      <td>NaN</td>\n",
       "      <td>0.0</td>\n",
       "      <td>0.0</td>\n",
       "      <td>2017-06-28</td>\n",
       "      <td>2077940.0</td>\n",
       "    </tr>\n",
       "    <tr>\n",
       "      <th>36599</th>\n",
       "      <td>11486198</td>\n",
       "      <td>NaN</td>\n",
       "      <td>0.0</td>\n",
       "      <td>0.0</td>\n",
       "      <td>2017-06-29</td>\n",
       "      <td>900820.0</td>\n",
       "    </tr>\n",
       "    <tr>\n",
       "      <th>37803</th>\n",
       "      <td>12179038</td>\n",
       "      <td>NaN</td>\n",
       "      <td>0.0</td>\n",
       "      <td>0.0</td>\n",
       "      <td>2017-06-30</td>\n",
       "      <td>177668.0</td>\n",
       "    </tr>\n",
       "  </tbody>\n",
       "</table>\n",
       "</div>"
      ],
      "text/plain": [
       "              id  sqft  bathcnt  bedcnt  transdate  propvalue\n",
       "22402   14466991   NaN      0.0     0.0 2017-05-01  2493444.0\n",
       "23075   13972530   NaN      0.0     0.0 2017-05-04   270009.0\n",
       "23076   14325627   NaN      0.0     0.0 2017-05-04  7074075.0\n",
       "23095   12686981   NaN      0.0     0.0 2017-05-04  5461875.0\n",
       "23861   10746614   NaN      0.0     0.0 2017-05-08   230876.0\n",
       "24796   14175690   NaN      0.0     0.0 2017-05-11   157074.0\n",
       "24873   12131538   NaN      0.0     0.0 2017-05-11   225126.0\n",
       "26411   17292027   NaN      0.0     0.0 2017-05-18  3210155.0\n",
       "27852   14175815   NaN      0.0     0.0 2017-05-24   385795.0\n",
       "27931   14430787   NaN      0.0     0.0 2017-05-25  5126781.0\n",
       "29010   17267536   NaN      0.0     0.0 2017-05-30    26237.0\n",
       "29377  167687839   NaN      0.0     0.0 2017-05-31  1842678.0\n",
       "30251   17190620   NaN      0.0     0.0 2017-06-02   180000.0\n",
       "31037   12528751   NaN      0.0     0.0 2017-06-06  1289097.0\n",
       "31500   14466726   NaN      0.0     0.0 2017-06-08  1558090.0\n",
       "32181   12055162   NaN      0.0     0.0 2017-06-12   406100.0\n",
       "32384   14326442   NaN      0.0     0.0 2017-06-13  3136161.0\n",
       "33661   14237996   NaN      0.0     0.0 2017-06-16   626497.0\n",
       "33901   14359299   NaN      0.0     0.0 2017-06-19  1244873.0\n",
       "34206   13889651   NaN      0.0     0.0 2017-06-20   125714.0\n",
       "34521   13889433   NaN      0.0     0.0 2017-06-21  1941143.0\n",
       "34822   13865064   NaN      0.0     0.0 2017-06-22  2231097.0\n",
       "34998   14469211   NaN      0.0     0.0 2017-06-22   970000.0\n",
       "35225   11496648   NaN      0.0     0.0 2017-06-23   957014.0\n",
       "36001   14166728   NaN      0.0     0.0 2017-06-27  1608894.0\n",
       "36560   11640641   NaN      0.0     0.0 2017-06-28  2077940.0\n",
       "36599   11486198   NaN      0.0     0.0 2017-06-29   900820.0\n",
       "37803   12179038   NaN      0.0     0.0 2017-06-30   177668.0"
      ]
     },
     "execution_count": 11,
     "metadata": {},
     "output_type": "execute_result"
    }
   ],
   "source": [
    "nulls = zillow[zillow.sqft.isnull()]\n",
    "nulls"
   ]
  },
  {
   "cell_type": "code",
   "execution_count": 12,
   "metadata": {},
   "outputs": [],
   "source": [
    "zillow = zillow.dropna(subset=['sqft']) #Drop NaNs in the sqft column"
   ]
  },
  {
   "cell_type": "markdown",
   "metadata": {},
   "source": [
    "Look for duplicates.\n",
    " - There are 5 duplicates.\n",
    " - All duplicates point to the same property (same sqft, nos. of bathroom and bedroom, and property value); the only difference is the transaction date.\n",
    " - Observations with more recent transaction date are kept."
   ]
  },
  {
   "cell_type": "code",
   "execution_count": 13,
   "metadata": {},
   "outputs": [
    {
     "data": {
      "text/html": [
       "<div>\n",
       "<style scoped>\n",
       "    .dataframe tbody tr th:only-of-type {\n",
       "        vertical-align: middle;\n",
       "    }\n",
       "\n",
       "    .dataframe tbody tr th {\n",
       "        vertical-align: top;\n",
       "    }\n",
       "\n",
       "    .dataframe thead th {\n",
       "        text-align: right;\n",
       "    }\n",
       "</style>\n",
       "<table border=\"1\" class=\"dataframe\">\n",
       "  <thead>\n",
       "    <tr style=\"text-align: right;\">\n",
       "      <th></th>\n",
       "      <th>id</th>\n",
       "      <th>sqft</th>\n",
       "      <th>bathcnt</th>\n",
       "      <th>bedcnt</th>\n",
       "      <th>transdate</th>\n",
       "      <th>propvalue</th>\n",
       "    </tr>\n",
       "  </thead>\n",
       "  <tbody>\n",
       "    <tr>\n",
       "      <th>23560</th>\n",
       "      <td>14074415</td>\n",
       "      <td>1025.0</td>\n",
       "      <td>1.0</td>\n",
       "      <td>2.0</td>\n",
       "      <td>2017-05-05</td>\n",
       "      <td>48107.0</td>\n",
       "    </tr>\n",
       "    <tr>\n",
       "      <th>23561</th>\n",
       "      <td>14074415</td>\n",
       "      <td>1025.0</td>\n",
       "      <td>1.0</td>\n",
       "      <td>2.0</td>\n",
       "      <td>2017-05-12</td>\n",
       "      <td>48107.0</td>\n",
       "    </tr>\n",
       "    <tr>\n",
       "      <th>24099</th>\n",
       "      <td>162960529</td>\n",
       "      <td>2459.0</td>\n",
       "      <td>4.0</td>\n",
       "      <td>4.0</td>\n",
       "      <td>2017-05-09</td>\n",
       "      <td>479000.0</td>\n",
       "    </tr>\n",
       "    <tr>\n",
       "      <th>24100</th>\n",
       "      <td>162960529</td>\n",
       "      <td>2459.0</td>\n",
       "      <td>4.0</td>\n",
       "      <td>4.0</td>\n",
       "      <td>2017-05-26</td>\n",
       "      <td>479000.0</td>\n",
       "    </tr>\n",
       "    <tr>\n",
       "      <th>27348</th>\n",
       "      <td>17280166</td>\n",
       "      <td>1816.0</td>\n",
       "      <td>3.0</td>\n",
       "      <td>4.0</td>\n",
       "      <td>2017-05-23</td>\n",
       "      <td>350701.0</td>\n",
       "    </tr>\n",
       "    <tr>\n",
       "      <th>27349</th>\n",
       "      <td>17280166</td>\n",
       "      <td>1816.0</td>\n",
       "      <td>3.0</td>\n",
       "      <td>4.0</td>\n",
       "      <td>2017-06-15</td>\n",
       "      <td>350701.0</td>\n",
       "    </tr>\n",
       "    <tr>\n",
       "      <th>27420</th>\n",
       "      <td>14254548</td>\n",
       "      <td>2126.0</td>\n",
       "      <td>2.0</td>\n",
       "      <td>4.0</td>\n",
       "      <td>2017-05-23</td>\n",
       "      <td>98473.0</td>\n",
       "    </tr>\n",
       "    <tr>\n",
       "      <th>27421</th>\n",
       "      <td>14254548</td>\n",
       "      <td>2126.0</td>\n",
       "      <td>2.0</td>\n",
       "      <td>4.0</td>\n",
       "      <td>2017-06-12</td>\n",
       "      <td>98473.0</td>\n",
       "    </tr>\n",
       "    <tr>\n",
       "      <th>30899</th>\n",
       "      <td>11991059</td>\n",
       "      <td>8469.0</td>\n",
       "      <td>6.0</td>\n",
       "      <td>12.0</td>\n",
       "      <td>2017-06-06</td>\n",
       "      <td>2485282.0</td>\n",
       "    </tr>\n",
       "    <tr>\n",
       "      <th>30900</th>\n",
       "      <td>11991059</td>\n",
       "      <td>8469.0</td>\n",
       "      <td>6.0</td>\n",
       "      <td>12.0</td>\n",
       "      <td>2017-06-09</td>\n",
       "      <td>2485282.0</td>\n",
       "    </tr>\n",
       "    <tr>\n",
       "      <th>30901</th>\n",
       "      <td>11991059</td>\n",
       "      <td>8469.0</td>\n",
       "      <td>6.0</td>\n",
       "      <td>12.0</td>\n",
       "      <td>2017-06-13</td>\n",
       "      <td>2485282.0</td>\n",
       "    </tr>\n",
       "  </tbody>\n",
       "</table>\n",
       "</div>"
      ],
      "text/plain": [
       "              id    sqft  bathcnt  bedcnt  transdate  propvalue\n",
       "23560   14074415  1025.0      1.0     2.0 2017-05-05    48107.0\n",
       "23561   14074415  1025.0      1.0     2.0 2017-05-12    48107.0\n",
       "24099  162960529  2459.0      4.0     4.0 2017-05-09   479000.0\n",
       "24100  162960529  2459.0      4.0     4.0 2017-05-26   479000.0\n",
       "27348   17280166  1816.0      3.0     4.0 2017-05-23   350701.0\n",
       "27349   17280166  1816.0      3.0     4.0 2017-06-15   350701.0\n",
       "27420   14254548  2126.0      2.0     4.0 2017-05-23    98473.0\n",
       "27421   14254548  2126.0      2.0     4.0 2017-06-12    98473.0\n",
       "30899   11991059  8469.0      6.0    12.0 2017-06-06  2485282.0\n",
       "30900   11991059  8469.0      6.0    12.0 2017-06-09  2485282.0\n",
       "30901   11991059  8469.0      6.0    12.0 2017-06-13  2485282.0"
      ]
     },
     "execution_count": 13,
     "metadata": {},
     "output_type": "execute_result"
    }
   ],
   "source": [
    "dups = zillow[zillow.duplicated(subset=[\"id\"])]\n",
    "dups_ids = list(dups.id)\n",
    "\n",
    "mask = ~zillow.id.isin(dups_ids) #Returns True for non-duplicates\n",
    "zillow.loc[~mask] #See what the duplicates contain"
   ]
  },
  {
   "cell_type": "code",
   "execution_count": 14,
   "metadata": {},
   "outputs": [
    {
     "data": {
      "text/html": [
       "<div>\n",
       "<style scoped>\n",
       "    .dataframe tbody tr th:only-of-type {\n",
       "        vertical-align: middle;\n",
       "    }\n",
       "\n",
       "    .dataframe tbody tr th {\n",
       "        vertical-align: top;\n",
       "    }\n",
       "\n",
       "    .dataframe thead th {\n",
       "        text-align: right;\n",
       "    }\n",
       "</style>\n",
       "<table border=\"1\" class=\"dataframe\">\n",
       "  <thead>\n",
       "    <tr style=\"text-align: right;\">\n",
       "      <th></th>\n",
       "      <th>id</th>\n",
       "      <th>sqft</th>\n",
       "      <th>bathcnt</th>\n",
       "      <th>bedcnt</th>\n",
       "      <th>transdate</th>\n",
       "      <th>propvalue</th>\n",
       "    </tr>\n",
       "  </thead>\n",
       "  <tbody>\n",
       "    <tr>\n",
       "      <th>23561</th>\n",
       "      <td>14074415</td>\n",
       "      <td>1025.0</td>\n",
       "      <td>1.0</td>\n",
       "      <td>2.0</td>\n",
       "      <td>2017-05-12</td>\n",
       "      <td>48107.0</td>\n",
       "    </tr>\n",
       "    <tr>\n",
       "      <th>24100</th>\n",
       "      <td>162960529</td>\n",
       "      <td>2459.0</td>\n",
       "      <td>4.0</td>\n",
       "      <td>4.0</td>\n",
       "      <td>2017-05-26</td>\n",
       "      <td>479000.0</td>\n",
       "    </tr>\n",
       "    <tr>\n",
       "      <th>27421</th>\n",
       "      <td>14254548</td>\n",
       "      <td>2126.0</td>\n",
       "      <td>2.0</td>\n",
       "      <td>4.0</td>\n",
       "      <td>2017-06-12</td>\n",
       "      <td>98473.0</td>\n",
       "    </tr>\n",
       "    <tr>\n",
       "      <th>30901</th>\n",
       "      <td>11991059</td>\n",
       "      <td>8469.0</td>\n",
       "      <td>6.0</td>\n",
       "      <td>12.0</td>\n",
       "      <td>2017-06-13</td>\n",
       "      <td>2485282.0</td>\n",
       "    </tr>\n",
       "    <tr>\n",
       "      <th>27349</th>\n",
       "      <td>17280166</td>\n",
       "      <td>1816.0</td>\n",
       "      <td>3.0</td>\n",
       "      <td>4.0</td>\n",
       "      <td>2017-06-15</td>\n",
       "      <td>350701.0</td>\n",
       "    </tr>\n",
       "  </tbody>\n",
       "</table>\n",
       "</div>"
      ],
      "text/plain": [
       "              id    sqft  bathcnt  bedcnt  transdate  propvalue\n",
       "23561   14074415  1025.0      1.0     2.0 2017-05-12    48107.0\n",
       "24100  162960529  2459.0      4.0     4.0 2017-05-26   479000.0\n",
       "27421   14254548  2126.0      2.0     4.0 2017-06-12    98473.0\n",
       "30901   11991059  8469.0      6.0    12.0 2017-06-13  2485282.0\n",
       "27349   17280166  1816.0      3.0     4.0 2017-06-15   350701.0"
      ]
     },
     "execution_count": 14,
     "metadata": {},
     "output_type": "execute_result"
    }
   ],
   "source": [
    "zillow = zillow.sort_values(\"transdate\").drop_duplicates('id',keep='last')\n",
    "zillow.loc[~mask] #Check if duplicates are indeed dropped"
   ]
  },
  {
   "cell_type": "markdown",
   "metadata": {},
   "source": [
    "### B. Split-Scale Data"
   ]
  },
  {
   "cell_type": "markdown",
   "metadata": {},
   "source": [
    "**SPLIT**\n",
    "1. Separate the features (X) and target (y) columns.\n",
    "2. Using `split_my_data` function from `zillow_util`, split further to train and test, resulting to four data frames with X and y separated and partitioned into two-train and test."
   ]
  },
  {
   "cell_type": "code",
   "execution_count": 15,
   "metadata": {},
   "outputs": [],
   "source": [
    "X = zillow[[\"sqft\",\"bathcnt\",\"bedcnt\"]]\n",
    "y = zillow.propvalue"
   ]
  },
  {
   "cell_type": "code",
   "execution_count": 16,
   "metadata": {},
   "outputs": [],
   "source": [
    "X_train, X_test, y_train, y_test = util.split_my_data(X, y, 0.7)"
   ]
  },
  {
   "cell_type": "markdown",
   "metadata": {},
   "source": [
    "**SCALE**  \n",
    "1. Scale all feature data, i.e., X_train and X_test, using the `standard_scaler` function from `zillow_util`.\n",
    "    - _Note:_ Features are scaled to mimic a normal distribution because Pearson's R will be obtained later.\n",
    "2. Scale X_train data. It will be fitted into to the model later.  \n",
    "3. Scale X_test data. It will be used post-modelling phase to test Ω model."
   ]
  },
  {
   "cell_type": "code",
   "execution_count": 73,
   "metadata": {},
   "outputs": [],
   "source": [
    "scaled_X_train, scaled_X_test, robust_scaler = util.robust_scaler(X_train, X_test)"
   ]
  },
  {
   "cell_type": "code",
   "execution_count": 74,
   "metadata": {},
   "outputs": [
    {
     "data": {
      "text/html": [
       "<div>\n",
       "<style scoped>\n",
       "    .dataframe tbody tr th:only-of-type {\n",
       "        vertical-align: middle;\n",
       "    }\n",
       "\n",
       "    .dataframe tbody tr th {\n",
       "        vertical-align: top;\n",
       "    }\n",
       "\n",
       "    .dataframe thead th {\n",
       "        text-align: right;\n",
       "    }\n",
       "</style>\n",
       "<table border=\"1\" class=\"dataframe\">\n",
       "  <thead>\n",
       "    <tr style=\"text-align: right;\">\n",
       "      <th></th>\n",
       "      <th>sqft</th>\n",
       "      <th>bathcnt</th>\n",
       "      <th>bedcnt</th>\n",
       "    </tr>\n",
       "  </thead>\n",
       "  <tbody>\n",
       "    <tr>\n",
       "      <th>count</th>\n",
       "      <td>4712.000000</td>\n",
       "      <td>4712.000000</td>\n",
       "      <td>4712.000000</td>\n",
       "    </tr>\n",
       "    <tr>\n",
       "      <th>mean</th>\n",
       "      <td>0.244886</td>\n",
       "      <td>0.344970</td>\n",
       "      <td>0.286715</td>\n",
       "    </tr>\n",
       "    <tr>\n",
       "      <th>std</th>\n",
       "      <td>0.944001</td>\n",
       "      <td>1.044438</td>\n",
       "      <td>0.932405</td>\n",
       "    </tr>\n",
       "    <tr>\n",
       "      <th>min</th>\n",
       "      <td>-1.318702</td>\n",
       "      <td>-2.000000</td>\n",
       "      <td>-3.000000</td>\n",
       "    </tr>\n",
       "    <tr>\n",
       "      <th>25%</th>\n",
       "      <td>-0.391698</td>\n",
       "      <td>0.000000</td>\n",
       "      <td>0.000000</td>\n",
       "    </tr>\n",
       "    <tr>\n",
       "      <th>50%</th>\n",
       "      <td>-0.004771</td>\n",
       "      <td>0.000000</td>\n",
       "      <td>0.000000</td>\n",
       "    </tr>\n",
       "    <tr>\n",
       "      <th>75%</th>\n",
       "      <td>0.641221</td>\n",
       "      <td>1.000000</td>\n",
       "      <td>1.000000</td>\n",
       "    </tr>\n",
       "    <tr>\n",
       "      <th>max</th>\n",
       "      <td>9.347328</td>\n",
       "      <td>9.000000</td>\n",
       "      <td>4.000000</td>\n",
       "    </tr>\n",
       "  </tbody>\n",
       "</table>\n",
       "</div>"
      ],
      "text/plain": [
       "              sqft      bathcnt       bedcnt\n",
       "count  4712.000000  4712.000000  4712.000000\n",
       "mean      0.244886     0.344970     0.286715\n",
       "std       0.944001     1.044438     0.932405\n",
       "min      -1.318702    -2.000000    -3.000000\n",
       "25%      -0.391698     0.000000     0.000000\n",
       "50%      -0.004771     0.000000     0.000000\n",
       "75%       0.641221     1.000000     1.000000\n",
       "max       9.347328     9.000000     4.000000"
      ]
     },
     "execution_count": 74,
     "metadata": {},
     "output_type": "execute_result"
    }
   ],
   "source": [
    "scaled_X_test.describe()"
   ]
  },
  {
   "cell_type": "markdown",
   "metadata": {},
   "source": [
    "_Note: Until post-modelling, only train data will be used henceforth._"
   ]
  },
  {
   "cell_type": "markdown",
   "metadata": {},
   "source": [
    "## EXPLORE\n",
    "PROJECT PLAN -> ACQUIRE -> PRE-PROCESS -> **EXPLORE** -> MODEL"
   ]
  },
  {
   "cell_type": "markdown",
   "metadata": {},
   "source": [
    "### A. Find Correlations\n",
    "Between Features to Target, Features to Features"
   ]
  },
  {
   "cell_type": "markdown",
   "metadata": {},
   "source": [
    "1. Look at Descriptive Stats of train data.\n",
    "2. Check if square footage, no. of bathrooms, and no. of bedrooms (features, X) are statistically significant with property value (target, y).\n",
    "3. Find strength of Linear Correlations between features and target through Pearson's R and heatmap plot."
   ]
  },
  {
   "cell_type": "markdown",
   "metadata": {},
   "source": [
    "#### DESCRIPTIVE STATISTICS"
   ]
  },
  {
   "cell_type": "code",
   "execution_count": 75,
   "metadata": {},
   "outputs": [],
   "source": [
    "#Merge scaled X train and y train data to have a full train dataset\n",
    "train_combined = scaled_X_train.copy()\n",
    "train_combined[\"propvalue\"] = y_train.copy()"
   ]
  },
  {
   "cell_type": "code",
   "execution_count": 76,
   "metadata": {},
   "outputs": [
    {
     "name": "stdout",
     "output_type": "stream",
     "text": [
      "<class 'pandas.core.frame.DataFrame'>\n",
      "Int64Index: 10994 entries, 29559 to 25852\n",
      "Data columns (total 4 columns):\n",
      "sqft         10994 non-null float64\n",
      "bathcnt      10994 non-null float64\n",
      "bedcnt       10994 non-null float64\n",
      "propvalue    10994 non-null float64\n",
      "dtypes: float64(4)\n",
      "memory usage: 429.5 KB\n"
     ]
    }
   ],
   "source": [
    "train_combined.info()"
   ]
  },
  {
   "cell_type": "code",
   "execution_count": 77,
   "metadata": {},
   "outputs": [
    {
     "data": {
      "text/html": [
       "<div>\n",
       "<style scoped>\n",
       "    .dataframe tbody tr th:only-of-type {\n",
       "        vertical-align: middle;\n",
       "    }\n",
       "\n",
       "    .dataframe tbody tr th {\n",
       "        vertical-align: top;\n",
       "    }\n",
       "\n",
       "    .dataframe thead th {\n",
       "        text-align: right;\n",
       "    }\n",
       "</style>\n",
       "<table border=\"1\" class=\"dataframe\">\n",
       "  <thead>\n",
       "    <tr style=\"text-align: right;\">\n",
       "      <th></th>\n",
       "      <th>sqft</th>\n",
       "      <th>bathcnt</th>\n",
       "      <th>bedcnt</th>\n",
       "      <th>propvalue</th>\n",
       "    </tr>\n",
       "  </thead>\n",
       "  <tbody>\n",
       "    <tr>\n",
       "      <th>count</th>\n",
       "      <td>10994.000000</td>\n",
       "      <td>10994.000000</td>\n",
       "      <td>10994.000000</td>\n",
       "      <td>1.099400e+04</td>\n",
       "    </tr>\n",
       "    <tr>\n",
       "      <th>mean</th>\n",
       "      <td>0.248017</td>\n",
       "      <td>0.344324</td>\n",
       "      <td>0.308714</td>\n",
       "      <td>5.390872e+05</td>\n",
       "    </tr>\n",
       "    <tr>\n",
       "      <th>std</th>\n",
       "      <td>0.950824</td>\n",
       "      <td>1.005729</td>\n",
       "      <td>0.940136</td>\n",
       "      <td>6.803675e+05</td>\n",
       "    </tr>\n",
       "    <tr>\n",
       "      <th>min</th>\n",
       "      <td>-1.223282</td>\n",
       "      <td>-2.000000</td>\n",
       "      <td>-3.000000</td>\n",
       "      <td>1.168300e+04</td>\n",
       "    </tr>\n",
       "    <tr>\n",
       "      <th>25%</th>\n",
       "      <td>-0.377863</td>\n",
       "      <td>0.000000</td>\n",
       "      <td>0.000000</td>\n",
       "      <td>2.043588e+05</td>\n",
       "    </tr>\n",
       "    <tr>\n",
       "      <th>50%</th>\n",
       "      <td>0.000000</td>\n",
       "      <td>0.000000</td>\n",
       "      <td>0.000000</td>\n",
       "      <td>3.889935e+05</td>\n",
       "    </tr>\n",
       "    <tr>\n",
       "      <th>75%</th>\n",
       "      <td>0.622137</td>\n",
       "      <td>1.000000</td>\n",
       "      <td>1.000000</td>\n",
       "      <td>6.377360e+05</td>\n",
       "    </tr>\n",
       "    <tr>\n",
       "      <th>max</th>\n",
       "      <td>13.137405</td>\n",
       "      <td>8.000000</td>\n",
       "      <td>9.000000</td>\n",
       "      <td>1.881260e+07</td>\n",
       "    </tr>\n",
       "  </tbody>\n",
       "</table>\n",
       "</div>"
      ],
      "text/plain": [
       "               sqft       bathcnt        bedcnt     propvalue\n",
       "count  10994.000000  10994.000000  10994.000000  1.099400e+04\n",
       "mean       0.248017      0.344324      0.308714  5.390872e+05\n",
       "std        0.950824      1.005729      0.940136  6.803675e+05\n",
       "min       -1.223282     -2.000000     -3.000000  1.168300e+04\n",
       "25%       -0.377863      0.000000      0.000000  2.043588e+05\n",
       "50%        0.000000      0.000000      0.000000  3.889935e+05\n",
       "75%        0.622137      1.000000      1.000000  6.377360e+05\n",
       "max       13.137405      8.000000      9.000000  1.881260e+07"
      ]
     },
     "execution_count": 77,
     "metadata": {},
     "output_type": "execute_result"
    }
   ],
   "source": [
    "train_combined.describe()"
   ]
  },
  {
   "cell_type": "code",
   "execution_count": 78,
   "metadata": {},
   "outputs": [
    {
     "data": {
      "image/png": "[encoded data removed]",
      "text/plain": [
       "<Figure size 720x720 with 20 Axes>"
      ]
     },
     "metadata": {
      "needs_background": "light"
     },
     "output_type": "display_data"
    }
   ],
   "source": [
    "grid = sns.pairplot(train_combined, vars=[\"sqft\",\"bathcnt\",\"bedcnt\",\"propvalue\"])"
   ]
  },
  {
   "cell_type": "markdown",
   "metadata": {},
   "source": [
    "#### CORRELATIONS"
   ]
  },
  {
   "cell_type": "code",
   "execution_count": 80,
   "metadata": {},
   "outputs": [
    {
     "data": {
      "text/html": [
       "<div>\n",
       "<style scoped>\n",
       "    .dataframe tbody tr th:only-of-type {\n",
       "        vertical-align: middle;\n",
       "    }\n",
       "\n",
       "    .dataframe tbody tr th {\n",
       "        vertical-align: top;\n",
       "    }\n",
       "\n",
       "    .dataframe thead th {\n",
       "        text-align: right;\n",
       "    }\n",
       "</style>\n",
       "<table border=\"1\" class=\"dataframe\">\n",
       "  <thead>\n",
       "    <tr style=\"text-align: right;\">\n",
       "      <th></th>\n",
       "      <th>pearsonr</th>\n",
       "      <th>pvalue</th>\n",
       "    </tr>\n",
       "  </thead>\n",
       "  <tbody>\n",
       "    <tr>\n",
       "      <th>0</th>\n",
       "      <td>0.625903</td>\n",
       "      <td>0.000000e+00</td>\n",
       "    </tr>\n",
       "    <tr>\n",
       "      <th>1</th>\n",
       "      <td>0.539421</td>\n",
       "      <td>0.000000e+00</td>\n",
       "    </tr>\n",
       "    <tr>\n",
       "      <th>2</th>\n",
       "      <td>0.285748</td>\n",
       "      <td>1.296613e-205</td>\n",
       "    </tr>\n",
       "  </tbody>\n",
       "</table>\n",
       "</div>"
      ],
      "text/plain": [
       "   pearsonr         pvalue\n",
       "0  0.625903   0.000000e+00\n",
       "1  0.539421   0.000000e+00\n",
       "2  0.285748  1.296613e-205"
      ]
     },
     "execution_count": 80,
     "metadata": {},
     "output_type": "execute_result"
    }
   ],
   "source": [
    "corrsqft, psqft = stats.pearsonr(train_combined.sqft, train_combined.propvalue)\n",
    "corrbth, pbth = stats.pearsonr(train_combined.bathcnt, train_combined.propvalue)\n",
    "corrbed, pbed = stats.pearsonr(train_combined.bedcnt, train_combined.propvalue)\n",
    "\n",
    "pearsonr = [corrsqft, corrbth, corrbed]\n",
    "pval = [psqft, pbth, pbed]\n",
    "\n",
    "r_pval = pd.DataFrame({\"pearsonr\":pearsonr, \"pvalue\":pval})\n",
    "r_pval"
   ]
  },
  {
   "cell_type": "code",
   "execution_count": 81,
   "metadata": {},
   "outputs": [
    {
     "data": {
      "text/plain": [
       "<matplotlib.axes._subplots.AxesSubplot at 0x1a22ebbac8>"
      ]
     },
     "execution_count": 81,
     "metadata": {},
     "output_type": "execute_result"
    },
    {
     "data": {
      "image/png": "[encoded data removed]",
      "text/plain": [
       "<Figure size 432x360 with 2 Axes>"
      ]
     },
     "metadata": {
      "needs_background": "light"
     },
     "output_type": "display_data"
    }
   ],
   "source": [
    "plt.figure(figsize=(6,5))\n",
    "cor = train_combined.corr()\n",
    "sns.heatmap(cor, annot=True, cmap=plt.cm.Reds)"
   ]
  },
  {
   "cell_type": "markdown",
   "metadata": {},
   "source": [
    "#### TAKEAWAYS"
   ]
  },
  {
   "cell_type": "markdown",
   "metadata": {},
   "source": [
    "**Features (X) to Target (y) Correlations**\n",
    "- Square Footage on its own has a MODERATE POSITIVE correlation with Property Value\n",
    "- Bathroom Count on its own has a MODERATE POSITIVE correlation with Property Value\n",
    "- Bedroom Count on its own has a VERY LOW POSITIVE correlation with Property Value\n",
    "\n",
    "**Features (x) to Features (x) Correlations**\n",
    "- Square Footage and No. of Bathrooms have HIGH POSITIVE correlations with each other\n",
    "- Square Footage and No. of Bedrooms have MODERATE POSITIVE correlations with each other\n",
    "\n",
    "**Conclusion**  \n",
    "Multicollinearity is apparent among the three features. With the Bathroom and Bedroom Count showing High and Moderate Positive Correlations towards the other feature Square Footage, not addressing these correlations might affect fitting the train data to the linear regression model.\n",
    "\n",
    "To address this, PCA (Principal Component Analysis) will be used since PCA is designed to manage highly correlated variables by \"combining\" features linearly. Only the highest principal component, i.e., PC1 will be fed into the model."
   ]
  },
  {
   "cell_type": "markdown",
   "metadata": {},
   "source": [
    "### B. Feature Engineering"
   ]
  },
  {
   "cell_type": "code",
   "execution_count": 97,
   "metadata": {},
   "outputs": [
    {
     "name": "stdout",
     "output_type": "stream",
     "text": [
      "[0.8069304  0.14051593 0.05255367]\n"
     ]
    }
   ],
   "source": [
    "pca = PCA(n_components=3, copy=True, whiten=False, svd_solver='auto', random_state=123)\n",
    "pca.fit(scaled_X_train)\n",
    "pc3 = pca.transform(scaled_X_train)\n",
    "pc3 = pd.DataFrame(pc3)\n",
    "\n",
    "pc3_X_test = pca.transform(scaled_X_test)\n",
    "pc3_X_test = pd.DataFrame(pc3_X_test)\n",
    "\n",
    "print(pca.explained_variance_ratio_)"
   ]
  },
  {
   "cell_type": "code",
   "execution_count": 98,
   "metadata": {},
   "outputs": [
    {
     "data": {
      "text/html": [
       "<div>\n",
       "<style scoped>\n",
       "    .dataframe tbody tr th:only-of-type {\n",
       "        vertical-align: middle;\n",
       "    }\n",
       "\n",
       "    .dataframe tbody tr th {\n",
       "        vertical-align: top;\n",
       "    }\n",
       "\n",
       "    .dataframe thead th {\n",
       "        text-align: right;\n",
       "    }\n",
       "</style>\n",
       "<table border=\"1\" class=\"dataframe\">\n",
       "  <thead>\n",
       "    <tr style=\"text-align: right;\">\n",
       "      <th></th>\n",
       "      <th>0</th>\n",
       "      <th>1</th>\n",
       "      <th>2</th>\n",
       "    </tr>\n",
       "  </thead>\n",
       "  <tbody>\n",
       "    <tr>\n",
       "      <th>0</th>\n",
       "      <td>-0.249273</td>\n",
       "      <td>-0.210303</td>\n",
       "      <td>-0.341366</td>\n",
       "    </tr>\n",
       "    <tr>\n",
       "      <th>1</th>\n",
       "      <td>-0.367398</td>\n",
       "      <td>-0.140443</td>\n",
       "      <td>0.243497</td>\n",
       "    </tr>\n",
       "    <tr>\n",
       "      <th>2</th>\n",
       "      <td>-2.622062</td>\n",
       "      <td>-1.123325</td>\n",
       "      <td>0.175822</td>\n",
       "    </tr>\n",
       "    <tr>\n",
       "      <th>3</th>\n",
       "      <td>-0.165273</td>\n",
       "      <td>0.904070</td>\n",
       "      <td>-0.141981</td>\n",
       "    </tr>\n",
       "    <tr>\n",
       "      <th>4</th>\n",
       "      <td>0.561196</td>\n",
       "      <td>-0.694679</td>\n",
       "      <td>-0.064808</td>\n",
       "    </tr>\n",
       "  </tbody>\n",
       "</table>\n",
       "</div>"
      ],
      "text/plain": [
       "          0         1         2\n",
       "0 -0.249273 -0.210303 -0.341366\n",
       "1 -0.367398 -0.140443  0.243497\n",
       "2 -2.622062 -1.123325  0.175822\n",
       "3 -0.165273  0.904070 -0.141981\n",
       "4  0.561196 -0.694679 -0.064808"
      ]
     },
     "execution_count": 98,
     "metadata": {},
     "output_type": "execute_result"
    }
   ],
   "source": [
    "pc3.describe()\n",
    "\n",
    "pc3_X_test.shape\n",
    "pc3_X_test.head()"
   ]
  },
  {
   "cell_type": "markdown",
   "metadata": {},
   "source": [
    "## MODEL\n",
    "PROJECT PLAN -> ACQUIRE -> PRE-PROCESS -> EXPLORE -> **MODEL**"
   ]
  },
  {
   "cell_type": "code",
   "execution_count": 99,
   "metadata": {},
   "outputs": [],
   "source": [
    "lmo, lmo_intercept, lmo_coeff = util.generate_linear_model(pc3, y_train)"
   ]
  },
  {
   "cell_type": "code",
   "execution_count": 100,
   "metadata": {},
   "outputs": [
    {
     "data": {
      "text/plain": [
       "LinearRegression(copy_X=True, fit_intercept=True, n_jobs=None, normalize=False)"
      ]
     },
     "execution_count": 100,
     "metadata": {},
     "output_type": "execute_result"
    }
   ],
   "source": [
    "lmo"
   ]
  },
  {
   "cell_type": "code",
   "execution_count": 101,
   "metadata": {},
   "outputs": [
    {
     "name": "stdout",
     "output_type": "stream",
     "text": [
      "\n",
      "Intercept = 539087.1864653447\n",
      "Coefficients = [ 249064.53278771 -313149.95615597  294617.52900653]\n",
      "\n"
     ]
    }
   ],
   "source": [
    "print(f\"\"\"\n",
    "Intercept = {lmo_intercept}\n",
    "Coefficients = {lmo_coeff}\n",
    "\"\"\")"
   ]
  },
  {
   "cell_type": "markdown",
   "metadata": {},
   "source": [
    "## III. Evaluate Models"
   ]
  },
  {
   "cell_type": "markdown",
   "metadata": {},
   "source": [
    "1. Plot Residuals\n",
    "2. Compute Evaluation Metrics\n",
    "3. Compare Baseline and Ω Model\n",
    "4. Plot y and yhat"
   ]
  },
  {
   "cell_type": "markdown",
   "metadata": {},
   "source": [
    "Now, we have two models:  \n",
    "- `lm_base` = baseline model\n",
    "- `lmo` = Ω Model  \n",
    "  \n",
    "We will fit the test data, `scaled_X_test` into these two models to return predicted property values, that is, our ŷ."
   ]
  },
  {
   "cell_type": "code",
   "execution_count": 160,
   "metadata": {},
   "outputs": [],
   "source": [
    "#Call actual y from y_test\n",
    "zillow_pd = pd.DataFrame(y_test.copy())\n",
    "zillow_pd[\"y_base\"] = lm_base.predict(scaled_X_test)\n",
    "\n",
    "#Predict ŷ using Baseline and Ω Models\n",
    "zillow_pd[\"y_base\"] = lm_base.predict(scaled_X_test)\n",
    "zillow_pd[\"y_omega\"] = lmo.predict(pc3_X_test)\n",
    "\n",
    "#Calculate Residuals of ŷ using Ω Model\n",
    "zillow_pd[\"y_base_residuals\"] = zillow_pd.propvalue - zillow_pd.y_base\n",
    "zillow_pd[\"y_omega_residuals\"] = zillow_pd.propvalue - zillow_pd.y_omega"
   ]
  },
  {
   "cell_type": "code",
   "execution_count": 161,
   "metadata": {},
   "outputs": [
    {
     "data": {
      "text/html": [
       "<div>\n",
       "<style scoped>\n",
       "    .dataframe tbody tr th:only-of-type {\n",
       "        vertical-align: middle;\n",
       "    }\n",
       "\n",
       "    .dataframe tbody tr th {\n",
       "        vertical-align: top;\n",
       "    }\n",
       "\n",
       "    .dataframe thead th {\n",
       "        text-align: right;\n",
       "    }\n",
       "</style>\n",
       "<table border=\"1\" class=\"dataframe\">\n",
       "  <thead>\n",
       "    <tr style=\"text-align: right;\">\n",
       "      <th></th>\n",
       "      <th>propvalue</th>\n",
       "      <th>y_base</th>\n",
       "      <th>y_omega</th>\n",
       "      <th>y_base_residuals</th>\n",
       "      <th>y_omega_residuals</th>\n",
       "    </tr>\n",
       "  </thead>\n",
       "  <tbody>\n",
       "    <tr>\n",
       "      <th>24260</th>\n",
       "      <td>396304.0</td>\n",
       "      <td>534549.461280</td>\n",
       "      <td>442286.034483</td>\n",
       "      <td>-138245.461280</td>\n",
       "      <td>-45982.034483</td>\n",
       "    </tr>\n",
       "    <tr>\n",
       "      <th>30736</th>\n",
       "      <td>1184796.0</td>\n",
       "      <td>638339.459209</td>\n",
       "      <td>563299.488672</td>\n",
       "      <td>546456.540791</td>\n",
       "      <td>621496.511328</td>\n",
       "    </tr>\n",
       "    <tr>\n",
       "      <th>31683</th>\n",
       "      <td>284270.0</td>\n",
       "      <td>404330.960253</td>\n",
       "      <td>289593.993830</td>\n",
       "      <td>-120060.960253</td>\n",
       "      <td>-5323.993830</td>\n",
       "    </tr>\n",
       "    <tr>\n",
       "      <th>31007</th>\n",
       "      <td>559083.0</td>\n",
       "      <td>278126.405773</td>\n",
       "      <td>172983.895269</td>\n",
       "      <td>280956.594227</td>\n",
       "      <td>386099.104731</td>\n",
       "    </tr>\n",
       "    <tr>\n",
       "      <th>25754</th>\n",
       "      <td>649355.0</td>\n",
       "      <td>929168.638901</td>\n",
       "      <td>877306.477958</td>\n",
       "      <td>-279813.638901</td>\n",
       "      <td>-227951.477958</td>\n",
       "    </tr>\n",
       "  </tbody>\n",
       "</table>\n",
       "</div>"
      ],
      "text/plain": [
       "       propvalue         y_base        y_omega  y_base_residuals  \\\n",
       "24260   396304.0  534549.461280  442286.034483    -138245.461280   \n",
       "30736  1184796.0  638339.459209  563299.488672     546456.540791   \n",
       "31683   284270.0  404330.960253  289593.993830    -120060.960253   \n",
       "31007   559083.0  278126.405773  172983.895269     280956.594227   \n",
       "25754   649355.0  929168.638901  877306.477958    -279813.638901   \n",
       "\n",
       "       y_omega_residuals  \n",
       "24260      -45982.034483  \n",
       "30736      621496.511328  \n",
       "31683       -5323.993830  \n",
       "31007      386099.104731  \n",
       "25754     -227951.477958  "
      ]
     },
     "execution_count": 161,
     "metadata": {},
     "output_type": "execute_result"
    }
   ],
   "source": [
    "zillow_pd.head()"
   ]
  },
  {
   "cell_type": "code",
   "execution_count": 105,
   "metadata": {},
   "outputs": [],
   "source": [
    "mse_baseline = mean_squared_error(zillow_pd.y_test, zillow_pd.y_base)\n",
    "rmse_baseline = sqrt(mse_baseline)\n",
    "sse_baseline = mse_baseline * len(zillow_pd.y_test)\n",
    "\n",
    "mse_omega = mean_squared_error(zillow_pd.y_test, zillow_pd.y_omega)\n",
    "rmse_omega = sqrt(mse_omega)\n",
    "sse_omega = mse_omega * len(zillow_pd.y_test)"
   ]
  },
  {
   "cell_type": "code",
   "execution_count": 106,
   "metadata": {},
   "outputs": [
    {
     "name": "stdout",
     "output_type": "stream",
     "text": [
      "\n",
      "Baseline Model Error Metrics:\n",
      "MSE: 438403466775.49805\n",
      "RMSE: 662120.4322292871\n",
      "SSE: 2065757135446146.8\n",
      "\n",
      "\n",
      "Ω Model Error Metrics:\n",
      "MSE: 427445539759.151\n",
      "RMSE: 653793.1934175753\n",
      "SSE: 2014123383345119.5\n",
      "\n"
     ]
    }
   ],
   "source": [
    "print(f\"\"\"\n",
    "Baseline Model Error Metrics:\n",
    "MSE: {mse_baseline}\n",
    "RMSE: {rmse_baseline}\n",
    "SSE: {sse_baseline}\n",
    "\"\"\")\n",
    "\n",
    "print(f\"\"\"\n",
    "Ω Model Error Metrics:\n",
    "MSE: {mse_omega}\n",
    "RMSE: {rmse_omega}\n",
    "SSE: {sse_omega}\n",
    "\"\"\")"
   ]
  },
  {
   "cell_type": "code",
   "execution_count": 107,
   "metadata": {},
   "outputs": [
    {
     "data": {
      "text/plain": [
       "0.325610123610515"
      ]
     },
     "execution_count": 107,
     "metadata": {},
     "output_type": "execute_result"
    }
   ],
   "source": [
    "evs_baseline = explained_variance_score(zillow_pd.y_test, zillow_pd.y_base)\n",
    "evs_baseline"
   ]
  },
  {
   "cell_type": "code",
   "execution_count": 108,
   "metadata": {},
   "outputs": [
    {
     "data": {
      "text/plain": [
       "0.3321125794176605"
      ]
     },
     "execution_count": 108,
     "metadata": {},
     "output_type": "execute_result"
    }
   ],
   "source": [
    "evs_omega = explained_variance_score(zillow_pd.y_test, zillow_pd.y_omega)\n",
    "evs_omega"
   ]
  },
  {
   "cell_type": "code",
   "execution_count": 143,
   "metadata": {},
   "outputs": [
    {
     "data": {
      "text/plain": [
       "Text(0.5, 1, 'Predicted Property Value')"
      ]
     },
     "execution_count": 143,
     "metadata": {},
     "output_type": "execute_result"
    },
    {
     "data": {
      "image/png": "[encoded data removed]",
      "text/plain": [
       "<Figure size 475.625x360 with 1 Axes>"
      ]
     },
     "metadata": {
      "needs_background": "light"
     },
     "output_type": "display_data"
    }
   ],
   "source": [
    "pd.DataFrame({'actual': zillow_pd.y_test,\n",
    "              'actual_values': zillow_pd.y_test,\n",
    "              'omega_values': zillow_pd.y_omega.ravel(),\n",
    "              'baseline_values': zillow_pd.y_base.ravel()})\\\n",
    ".melt(id_vars='actual', var_name='model', value_name='prediction')\\\n",
    ".pipe((sns.lmplot, 'data'), x='actual', y='prediction', hue='model',palette=\"husl\")\n",
    "\n",
    "# .melt(id_vars=['actual'], var_name='model', value_name='prediction')\\\n",
    "# .pipe((sns.relplot, 'data'), x='actual', y='prediction', hue='model')\n",
    "\n",
    "# plt.ylim(min, max)\n",
    "# plt.xlim(min, max)\n",
    "plt.title('Predicted Property Value')"
   ]
  },
  {
   "cell_type": "code",
   "execution_count": null,
   "metadata": {},
   "outputs": [],
   "source": []
  }
 ],
 "metadata": {
  "kernelspec": {
   "display_name": "Python 3",
   "language": "python",
   "name": "python3"
  },
  "language_info": {
   "codemirror_mode": {
    "name": "ipython",
    "version": 3
   },
   "file_extension": ".py",
   "mimetype": "text/x-python",
   "name": "python",
   "nbconvert_exporter": "python",
   "pygments_lexer": "ipython3",
   "version": "3.7.3"
  }
 },
 "nbformat": 4,
 "nbformat_minor": 2
}
